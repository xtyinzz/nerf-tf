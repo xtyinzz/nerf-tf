{
 "cells": [
  {
   "cell_type": "code",
   "execution_count": 1,
   "metadata": {},
   "outputs": [],
   "source": [
    "import os, sys\n",
    "# os.environ['TF_FORCE_GPU_ALLOW_GROWTH'] = 'true'\n",
    "# os.environ['CUDA_VISIBLE_DEVICES'] = '0'\n",
    "# import tensorflow as tf\n",
    "# tf.compat.v1.enable_eager_execution()\n",
    "\n",
    "import numpy as np\n",
    "import imageio\n",
    "import pprint\n",
    "\n",
    "import matplotlib.pyplot as plt\n",
    "\n",
    "import run_nerf\n",
    "import run_nerf_helpers\n",
    "\n",
    "def relu(x):\n",
    "  return(np.maximum(0, x))\n",
    "\n",
    "# Function for computing density from model prediction. This value is\n",
    "# strictly between [0, 1].\n",
    "def raw2alpha(raw, dists, act_fn=relu): return 1.0 - \\\n",
    "    np.exp(-act_fn(raw) * dists)\n"
   ]
  },
  {
   "cell_type": "code",
   "execution_count": null,
   "metadata": {},
   "outputs": [],
   "source": []
  },
  {
   "cell_type": "code",
   "execution_count": 2,
   "metadata": {},
   "outputs": [],
   "source": [
    "rgbd = np.load(\"vol/lego.npy\")"
   ]
  },
  {
   "cell_type": "code",
   "execution_count": 3,
   "metadata": {},
   "outputs": [],
   "source": [
    "sigma = rgbd[...,-1]"
   ]
  },
  {
   "cell_type": "code",
   "execution_count": 8,
   "metadata": {},
   "outputs": [
    {
     "data": {
      "text/plain": [
       "(257, 257, 257)"
      ]
     },
     "execution_count": 8,
     "metadata": {},
     "output_type": "execute_result"
    }
   ],
   "source": [
    "sigma.shape"
   ]
  },
  {
   "cell_type": "code",
   "execution_count": null,
   "metadata": {},
   "outputs": [],
   "source": [
    "sigma = rgbd[...,-1]\n",
    "."
   ]
  },
  {
   "cell_type": "code",
   "execution_count": null,
   "metadata": {},
   "outputs": [],
   "source": [
    "sigma.tofile(\"vol/lego.bin\")"
   ]
  },
  {
   "cell_type": "code",
   "execution_count": 7,
   "metadata": {},
   "outputs": [
    {
     "data": {
      "text/plain": [
       "(array([1.6450044e+07, 2.8594700e+05, 1.5309900e+05, 5.6513000e+04,\n",
       "        1.9735000e+04, 6.6660000e+03, 1.8970000e+03, 5.5000000e+02,\n",
       "        1.3000000e+02, 1.2000000e+01]),\n",
       " array([ -43.779877,   80.44573 ,  204.67134 ,  328.89694 ,  453.12256 ,\n",
       "         577.34814 ,  701.5738  ,  825.7994  ,  950.02496 , 1074.2506  ,\n",
       "        1198.4762  ], dtype=float32),\n",
       " <BarContainer object of 10 artists>)"
      ]
     },
     "execution_count": 7,
     "metadata": {},
     "output_type": "execute_result"
    },
    {
     "data": {
      "image/png": "[encoded data removed]",
      "text/plain": [
       "<Figure size 640x480 with 1 Axes>"
      ]
     },
     "metadata": {},
     "output_type": "display_data"
    }
   ],
   "source": [
    "plt.hist(sigma.flatten())"
   ]
  }
 ],
 "metadata": {
  "kernelspec": {
   "display_name": "Python 3.7.12 64-bit ('nerf')",
   "language": "python",
   "name": "python3"
  },
  "language_info": {
   "codemirror_mode": {
    "name": "ipython",
    "version": 3
   },
   "file_extension": ".py",
   "mimetype": "text/x-python",
   "name": "python",
   "nbconvert_exporter": "python",
   "pygments_lexer": "ipython3",
   "version": "3.7.12"
  },
  "orig_nbformat": 4,
  "vscode": {
   "interpreter": {
    "hash": "1c88a19959caa81c18793a80db401ac5adcb7890083ba1c28e84f3a66808c3a5"
   }
  }
 },
 "nbformat": 4,
 "nbformat_minor": 2
}
